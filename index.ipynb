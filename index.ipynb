{
 "cells": [
  {
   "cell_type": "code",
   "execution_count": 3,
   "metadata": {},
   "outputs": [
    {
     "name": "stdout",
     "output_type": "stream",
     "text": [
      "WARNING:tensorflow:From C:\\Users\\User\\AppData\\Local\\Temp\\ipykernel_20756\\1352324922.py:18: The name tf.enable_eager_execution is deprecated. Please use tf.compat.v1.enable_eager_execution instead.\n",
      "\n"
     ]
    }
   ],
   "source": [
    "import os\n",
    "import shutil\n",
    "import random\n",
    "import numpy as np\n",
    "import cv2\n",
    "import tensorflow as tf\n",
    "import matplotlib.pyplot as plt\n",
    "import pickle\n",
    "import tkinter as tk\n",
    "from tkinter import filedialog, ttk\n",
    "from PIL import Image, ImageTk\n",
    "import tensorflow as tf\n",
    "from tensorflow.keras.models import Sequential, load_model\n",
    "from tensorflow.keras.layers import Conv2D, MaxPooling2D, Flatten, Dense, Dropout\n",
    "from tensorflow.keras.preprocessing.image import ImageDataGenerator\n",
    "from tensorflow.keras.callbacks import ReduceLROnPlateau, EarlyStopping\n",
    "from tensorflow.keras.utils import load_img, img_to_array\n",
    "tf.compat.v1.enable_eager_execution()\n",
    "\n"
   ]
  },
  {
   "cell_type": "code",
   "execution_count": 4,
   "metadata": {},
   "outputs": [
    {
     "name": "stdout",
     "output_type": "stream",
     "text": [
      "✅ 840 gambar Batik Madura telah dipilih dan disimpan di B:/Belajar/Analisis Citra/Final Project/TRAIN_BALANCED\\Madura\n",
      "✅ 840 gambar Batik Non-Madura telah dipilih dan disimpan di B:/Belajar/Analisis Citra/Final Project/TRAIN_BALANCED\\Non-Madura\n",
      "✅ Dataset sudah seimbang dan siap digunakan untuk training!\n"
     ]
    }
   ],
   "source": [
    "# ==============================\n",
    "# 📌 2. PREPROCESSING DATASET\n",
    "# ==============================\n",
    "\n",
    "# Path dataset awal\n",
    "base_dir = \"B:/Belajar/Analisis Citra/Final Project/TRAIN\"\n",
    "output_dir = \"B:/Belajar/Analisis Citra/Final Project/TRAIN_BALANCED\"\n",
    "\n",
    "# Path folder Batik Madura dan Batik Non-Madura\n",
    "madura_dir = os.path.join(base_dir, \"Batik Madura\")\n",
    "non_madura_dir = os.path.join(base_dir, \"Batik Non Madura\")\n",
    "\n",
    "# Path folder output\n",
    "madura_out = os.path.join(output_dir, \"Madura\")\n",
    "non_madura_out = os.path.join(output_dir, \"Non-Madura\")\n",
    "\n",
    "# Buat folder output jika belum ada\n",
    "os.makedirs(madura_out, exist_ok=True)\n",
    "os.makedirs(non_madura_out, exist_ok=True)\n",
    "\n",
    "# **1. Pilih 840 gambar dari Batik Madura**\n",
    "madura_images = [f for f in os.listdir(madura_dir) if f.endswith(('.jpg', '.png', '.jpeg'))]\n",
    "selected_madura = random.sample(madura_images, min(840, len(madura_images)))\n",
    "\n",
    "# Copy gambar ke folder baru\n",
    "for img in selected_madura:\n",
    "    shutil.copy(os.path.join(madura_dir, img), os.path.join(madura_out, img))\n",
    "\n",
    "print(f\"✅ 840 gambar Batik Madura telah dipilih dan disimpan di {madura_out}\")\n",
    "\n",
    "# **2. Pilih 60 gambar dari setiap subfolder di Batik Non-Madura**\n",
    "non_madura_folders = [f for f in os.listdir(non_madura_dir) if os.path.isdir(os.path.join(non_madura_dir, f))]\n",
    "\n",
    "for folder in non_madura_folders:\n",
    "    folder_path = os.path.join(non_madura_dir, folder)\n",
    "    images = [f for f in os.listdir(folder_path) if f.endswith(('.jpg', '.png', '.jpeg'))]\n",
    "    \n",
    "    # Pilih 60 gambar acak dari setiap folder\n",
    "    selected_images = random.sample(images, min(60, len(images)))\n",
    "    \n",
    "    for img in selected_images:\n",
    "        shutil.copy(os.path.join(folder_path, img), os.path.join(non_madura_out, f\"{folder}_{img}\"))\n",
    "\n",
    "print(f\"✅ 840 gambar Batik Non-Madura telah dipilih dan disimpan di {non_madura_out}\")\n",
    "print(\"✅ Dataset sudah seimbang dan siap digunakan untuk training!\")"
   ]
  },
  {
   "cell_type": "code",
   "execution_count": 5,
   "metadata": {},
   "outputs": [],
   "source": [
    "# ==============================\n",
    "# 📌 3. Fungsi Preprocessing Gambar\n",
    "# ==============================\n",
    "\n",
    "# Fungsi untuk konversi ke grayscale\n",
    "def grayscale(image):\n",
    "    return cv2.cvtColor(image, cv2.COLOR_RGB2GRAY)\n",
    "\n",
    "# Fungsi untuk binarization (thresholding)\n",
    "def binarize(image):\n",
    "    gray = grayscale(image)\n",
    "    _, binary = cv2.threshold(gray, 127, 255, cv2.THRESH_BINARY)\n",
    "    return binary"
   ]
  },
  {
   "cell_type": "code",
   "execution_count": 6,
   "metadata": {},
   "outputs": [
    {
     "name": "stdout",
     "output_type": "stream",
     "text": [
      "Found 5115 images belonging to 2 classes.\n",
      "Found 1278 images belonging to 2 classes.\n"
     ]
    }
   ],
   "source": [
    "# ==============================\n",
    "# 📌 4. Load Dataset dengan Augmentasi\n",
    "# ==============================\n",
    "base_dir = \"B:/Belajar/Analisis Citra/Final Project/TRAIN_BALANCED\"\n",
    "\n",
    "train_datagen = ImageDataGenerator(\n",
    "    rescale=1./255,\n",
    "    rotation_range=20,\n",
    "    width_shift_range=0.2,\n",
    "    height_shift_range=0.2,\n",
    "    shear_range=0.2,\n",
    "    zoom_range=0.2,\n",
    "    horizontal_flip=True,\n",
    "    validation_split=0.2\n",
    ")\n",
    "\n",
    "train_generator = train_datagen.flow_from_directory(\n",
    "    base_dir,\n",
    "    target_size=(128, 128),\n",
    "    batch_size=32,\n",
    "    class_mode='binary',\n",
    "    subset='training'\n",
    ")\n",
    "\n",
    "validation_generator = train_datagen.flow_from_directory(\n",
    "    base_dir,\n",
    "    target_size=(128, 128),\n",
    "    batch_size=32,\n",
    "    class_mode='binary',\n",
    "    subset='validation'\n",
    ")"
   ]
  },
  {
   "cell_type": "code",
   "execution_count": 7,
   "metadata": {},
   "outputs": [
    {
     "name": "stderr",
     "output_type": "stream",
     "text": [
      "C:\\Users\\User\\AppData\\Local\\Packages\\PythonSoftwareFoundation.Python.3.11_qbz5n2kfra8p0\\LocalCache\\local-packages\\Python311\\site-packages\\keras\\src\\layers\\convolutional\\base_conv.py:107: UserWarning: Do not pass an `input_shape`/`input_dim` argument to a layer. When using Sequential models, prefer using an `Input(shape)` object as the first layer in the model instead.\n",
      "  super().__init__(activity_regularizer=activity_regularizer, **kwargs)\n"
     ]
    },
    {
     "data": {
      "text/html": [
       "<pre style=\"white-space:pre;overflow-x:auto;line-height:normal;font-family:Menlo,'DejaVu Sans Mono',consolas,'Courier New',monospace\"><span style=\"font-weight: bold\">Model: \"sequential\"</span>\n",
       "</pre>\n"
      ],
      "text/plain": [
       "\u001b[1mModel: \"sequential\"\u001b[0m\n"
      ]
     },
     "metadata": {},
     "output_type": "display_data"
    },
    {
     "data": {
      "text/html": [
       "<pre style=\"white-space:pre;overflow-x:auto;line-height:normal;font-family:Menlo,'DejaVu Sans Mono',consolas,'Courier New',monospace\">┏━━━━━━━━━━━━━━━━━━━━━━━━━━━━━━━━━┳━━━━━━━━━━━━━━━━━━━━━━━━┳━━━━━━━━━━━━━━━┓\n",
       "┃<span style=\"font-weight: bold\"> Layer (type)                    </span>┃<span style=\"font-weight: bold\"> Output Shape           </span>┃<span style=\"font-weight: bold\">       Param # </span>┃\n",
       "┡━━━━━━━━━━━━━━━━━━━━━━━━━━━━━━━━━╇━━━━━━━━━━━━━━━━━━━━━━━━╇━━━━━━━━━━━━━━━┩\n",
       "│ conv2d (<span style=\"color: #0087ff; text-decoration-color: #0087ff\">Conv2D</span>)                 │ (<span style=\"color: #00d7ff; text-decoration-color: #00d7ff\">None</span>, <span style=\"color: #00af00; text-decoration-color: #00af00\">126</span>, <span style=\"color: #00af00; text-decoration-color: #00af00\">126</span>, <span style=\"color: #00af00; text-decoration-color: #00af00\">32</span>)   │           <span style=\"color: #00af00; text-decoration-color: #00af00\">896</span> │\n",
       "├─────────────────────────────────┼────────────────────────┼───────────────┤\n",
       "│ max_pooling2d (<span style=\"color: #0087ff; text-decoration-color: #0087ff\">MaxPooling2D</span>)    │ (<span style=\"color: #00d7ff; text-decoration-color: #00d7ff\">None</span>, <span style=\"color: #00af00; text-decoration-color: #00af00\">63</span>, <span style=\"color: #00af00; text-decoration-color: #00af00\">63</span>, <span style=\"color: #00af00; text-decoration-color: #00af00\">32</span>)     │             <span style=\"color: #00af00; text-decoration-color: #00af00\">0</span> │\n",
       "├─────────────────────────────────┼────────────────────────┼───────────────┤\n",
       "│ conv2d_1 (<span style=\"color: #0087ff; text-decoration-color: #0087ff\">Conv2D</span>)               │ (<span style=\"color: #00d7ff; text-decoration-color: #00d7ff\">None</span>, <span style=\"color: #00af00; text-decoration-color: #00af00\">61</span>, <span style=\"color: #00af00; text-decoration-color: #00af00\">61</span>, <span style=\"color: #00af00; text-decoration-color: #00af00\">64</span>)     │        <span style=\"color: #00af00; text-decoration-color: #00af00\">18,496</span> │\n",
       "├─────────────────────────────────┼────────────────────────┼───────────────┤\n",
       "│ max_pooling2d_1 (<span style=\"color: #0087ff; text-decoration-color: #0087ff\">MaxPooling2D</span>)  │ (<span style=\"color: #00d7ff; text-decoration-color: #00d7ff\">None</span>, <span style=\"color: #00af00; text-decoration-color: #00af00\">30</span>, <span style=\"color: #00af00; text-decoration-color: #00af00\">30</span>, <span style=\"color: #00af00; text-decoration-color: #00af00\">64</span>)     │             <span style=\"color: #00af00; text-decoration-color: #00af00\">0</span> │\n",
       "├─────────────────────────────────┼────────────────────────┼───────────────┤\n",
       "│ conv2d_2 (<span style=\"color: #0087ff; text-decoration-color: #0087ff\">Conv2D</span>)               │ (<span style=\"color: #00d7ff; text-decoration-color: #00d7ff\">None</span>, <span style=\"color: #00af00; text-decoration-color: #00af00\">28</span>, <span style=\"color: #00af00; text-decoration-color: #00af00\">28</span>, <span style=\"color: #00af00; text-decoration-color: #00af00\">128</span>)    │        <span style=\"color: #00af00; text-decoration-color: #00af00\">73,856</span> │\n",
       "├─────────────────────────────────┼────────────────────────┼───────────────┤\n",
       "│ max_pooling2d_2 (<span style=\"color: #0087ff; text-decoration-color: #0087ff\">MaxPooling2D</span>)  │ (<span style=\"color: #00d7ff; text-decoration-color: #00d7ff\">None</span>, <span style=\"color: #00af00; text-decoration-color: #00af00\">14</span>, <span style=\"color: #00af00; text-decoration-color: #00af00\">14</span>, <span style=\"color: #00af00; text-decoration-color: #00af00\">128</span>)    │             <span style=\"color: #00af00; text-decoration-color: #00af00\">0</span> │\n",
       "├─────────────────────────────────┼────────────────────────┼───────────────┤\n",
       "│ flatten (<span style=\"color: #0087ff; text-decoration-color: #0087ff\">Flatten</span>)               │ (<span style=\"color: #00d7ff; text-decoration-color: #00d7ff\">None</span>, <span style=\"color: #00af00; text-decoration-color: #00af00\">25088</span>)          │             <span style=\"color: #00af00; text-decoration-color: #00af00\">0</span> │\n",
       "├─────────────────────────────────┼────────────────────────┼───────────────┤\n",
       "│ dense (<span style=\"color: #0087ff; text-decoration-color: #0087ff\">Dense</span>)                   │ (<span style=\"color: #00d7ff; text-decoration-color: #00d7ff\">None</span>, <span style=\"color: #00af00; text-decoration-color: #00af00\">128</span>)            │     <span style=\"color: #00af00; text-decoration-color: #00af00\">3,211,392</span> │\n",
       "├─────────────────────────────────┼────────────────────────┼───────────────┤\n",
       "│ dropout (<span style=\"color: #0087ff; text-decoration-color: #0087ff\">Dropout</span>)               │ (<span style=\"color: #00d7ff; text-decoration-color: #00d7ff\">None</span>, <span style=\"color: #00af00; text-decoration-color: #00af00\">128</span>)            │             <span style=\"color: #00af00; text-decoration-color: #00af00\">0</span> │\n",
       "├─────────────────────────────────┼────────────────────────┼───────────────┤\n",
       "│ dense_1 (<span style=\"color: #0087ff; text-decoration-color: #0087ff\">Dense</span>)                 │ (<span style=\"color: #00d7ff; text-decoration-color: #00d7ff\">None</span>, <span style=\"color: #00af00; text-decoration-color: #00af00\">1</span>)              │           <span style=\"color: #00af00; text-decoration-color: #00af00\">129</span> │\n",
       "└─────────────────────────────────┴────────────────────────┴───────────────┘\n",
       "</pre>\n"
      ],
      "text/plain": [
       "┏━━━━━━━━━━━━━━━━━━━━━━━━━━━━━━━━━┳━━━━━━━━━━━━━━━━━━━━━━━━┳━━━━━━━━━━━━━━━┓\n",
       "┃\u001b[1m \u001b[0m\u001b[1mLayer (type)                   \u001b[0m\u001b[1m \u001b[0m┃\u001b[1m \u001b[0m\u001b[1mOutput Shape          \u001b[0m\u001b[1m \u001b[0m┃\u001b[1m \u001b[0m\u001b[1m      Param #\u001b[0m\u001b[1m \u001b[0m┃\n",
       "┡━━━━━━━━━━━━━━━━━━━━━━━━━━━━━━━━━╇━━━━━━━━━━━━━━━━━━━━━━━━╇━━━━━━━━━━━━━━━┩\n",
       "│ conv2d (\u001b[38;5;33mConv2D\u001b[0m)                 │ (\u001b[38;5;45mNone\u001b[0m, \u001b[38;5;34m126\u001b[0m, \u001b[38;5;34m126\u001b[0m, \u001b[38;5;34m32\u001b[0m)   │           \u001b[38;5;34m896\u001b[0m │\n",
       "├─────────────────────────────────┼────────────────────────┼───────────────┤\n",
       "│ max_pooling2d (\u001b[38;5;33mMaxPooling2D\u001b[0m)    │ (\u001b[38;5;45mNone\u001b[0m, \u001b[38;5;34m63\u001b[0m, \u001b[38;5;34m63\u001b[0m, \u001b[38;5;34m32\u001b[0m)     │             \u001b[38;5;34m0\u001b[0m │\n",
       "├─────────────────────────────────┼────────────────────────┼───────────────┤\n",
       "│ conv2d_1 (\u001b[38;5;33mConv2D\u001b[0m)               │ (\u001b[38;5;45mNone\u001b[0m, \u001b[38;5;34m61\u001b[0m, \u001b[38;5;34m61\u001b[0m, \u001b[38;5;34m64\u001b[0m)     │        \u001b[38;5;34m18,496\u001b[0m │\n",
       "├─────────────────────────────────┼────────────────────────┼───────────────┤\n",
       "│ max_pooling2d_1 (\u001b[38;5;33mMaxPooling2D\u001b[0m)  │ (\u001b[38;5;45mNone\u001b[0m, \u001b[38;5;34m30\u001b[0m, \u001b[38;5;34m30\u001b[0m, \u001b[38;5;34m64\u001b[0m)     │             \u001b[38;5;34m0\u001b[0m │\n",
       "├─────────────────────────────────┼────────────────────────┼───────────────┤\n",
       "│ conv2d_2 (\u001b[38;5;33mConv2D\u001b[0m)               │ (\u001b[38;5;45mNone\u001b[0m, \u001b[38;5;34m28\u001b[0m, \u001b[38;5;34m28\u001b[0m, \u001b[38;5;34m128\u001b[0m)    │        \u001b[38;5;34m73,856\u001b[0m │\n",
       "├─────────────────────────────────┼────────────────────────┼───────────────┤\n",
       "│ max_pooling2d_2 (\u001b[38;5;33mMaxPooling2D\u001b[0m)  │ (\u001b[38;5;45mNone\u001b[0m, \u001b[38;5;34m14\u001b[0m, \u001b[38;5;34m14\u001b[0m, \u001b[38;5;34m128\u001b[0m)    │             \u001b[38;5;34m0\u001b[0m │\n",
       "├─────────────────────────────────┼────────────────────────┼───────────────┤\n",
       "│ flatten (\u001b[38;5;33mFlatten\u001b[0m)               │ (\u001b[38;5;45mNone\u001b[0m, \u001b[38;5;34m25088\u001b[0m)          │             \u001b[38;5;34m0\u001b[0m │\n",
       "├─────────────────────────────────┼────────────────────────┼───────────────┤\n",
       "│ dense (\u001b[38;5;33mDense\u001b[0m)                   │ (\u001b[38;5;45mNone\u001b[0m, \u001b[38;5;34m128\u001b[0m)            │     \u001b[38;5;34m3,211,392\u001b[0m │\n",
       "├─────────────────────────────────┼────────────────────────┼───────────────┤\n",
       "│ dropout (\u001b[38;5;33mDropout\u001b[0m)               │ (\u001b[38;5;45mNone\u001b[0m, \u001b[38;5;34m128\u001b[0m)            │             \u001b[38;5;34m0\u001b[0m │\n",
       "├─────────────────────────────────┼────────────────────────┼───────────────┤\n",
       "│ dense_1 (\u001b[38;5;33mDense\u001b[0m)                 │ (\u001b[38;5;45mNone\u001b[0m, \u001b[38;5;34m1\u001b[0m)              │           \u001b[38;5;34m129\u001b[0m │\n",
       "└─────────────────────────────────┴────────────────────────┴───────────────┘\n"
      ]
     },
     "metadata": {},
     "output_type": "display_data"
    },
    {
     "data": {
      "text/html": [
       "<pre style=\"white-space:pre;overflow-x:auto;line-height:normal;font-family:Menlo,'DejaVu Sans Mono',consolas,'Courier New',monospace\"><span style=\"font-weight: bold\"> Total params: </span><span style=\"color: #00af00; text-decoration-color: #00af00\">3,304,769</span> (12.61 MB)\n",
       "</pre>\n"
      ],
      "text/plain": [
       "\u001b[1m Total params: \u001b[0m\u001b[38;5;34m3,304,769\u001b[0m (12.61 MB)\n"
      ]
     },
     "metadata": {},
     "output_type": "display_data"
    },
    {
     "data": {
      "text/html": [
       "<pre style=\"white-space:pre;overflow-x:auto;line-height:normal;font-family:Menlo,'DejaVu Sans Mono',consolas,'Courier New',monospace\"><span style=\"font-weight: bold\"> Trainable params: </span><span style=\"color: #00af00; text-decoration-color: #00af00\">3,304,769</span> (12.61 MB)\n",
       "</pre>\n"
      ],
      "text/plain": [
       "\u001b[1m Trainable params: \u001b[0m\u001b[38;5;34m3,304,769\u001b[0m (12.61 MB)\n"
      ]
     },
     "metadata": {},
     "output_type": "display_data"
    },
    {
     "data": {
      "text/html": [
       "<pre style=\"white-space:pre;overflow-x:auto;line-height:normal;font-family:Menlo,'DejaVu Sans Mono',consolas,'Courier New',monospace\"><span style=\"font-weight: bold\"> Non-trainable params: </span><span style=\"color: #00af00; text-decoration-color: #00af00\">0</span> (0.00 B)\n",
       "</pre>\n"
      ],
      "text/plain": [
       "\u001b[1m Non-trainable params: \u001b[0m\u001b[38;5;34m0\u001b[0m (0.00 B)\n"
      ]
     },
     "metadata": {},
     "output_type": "display_data"
    }
   ],
   "source": [
    "# ==============================\n",
    "# 📌 5. Model CNN\n",
    "# ==============================\n",
    "model = Sequential([\n",
    "    Conv2D(32, (3,3), activation='relu', input_shape=(128, 128, 3)),\n",
    "    MaxPooling2D(2,2),\n",
    "    Conv2D(64, (3,3), activation='relu'),\n",
    "    MaxPooling2D(2,2),\n",
    "    Conv2D(128, (3,3), activation='relu'),\n",
    "    MaxPooling2D(2,2),\n",
    "    Flatten(),\n",
    "    Dense(128, activation='relu'),\n",
    "    Dropout(0.5),\n",
    "    Dense(1, activation='sigmoid')\n",
    "])\n",
    "\n",
    "model.compile(\n",
    "    optimizer=tf.keras.optimizers.Adam(learning_rate=0.0001),\n",
    "    loss='binary_crossentropy',\n",
    "    metrics=['accuracy']\n",
    ")\n",
    "\n",
    "model.summary()"
   ]
  },
  {
   "cell_type": "code",
   "execution_count": 8,
   "metadata": {},
   "outputs": [],
   "source": [
    "# ==============================\n",
    "# 📌 6. Callbacks\n",
    "# ==============================\n",
    "reduce_lr = ReduceLROnPlateau(monitor='val_loss', factor=0.2, patience=5, min_lr=1e-5)\n",
    "early_stopping = EarlyStopping(monitor='val_loss', patience=7, restore_best_weights=True)"
   ]
  },
  {
   "cell_type": "code",
   "execution_count": 9,
   "metadata": {},
   "outputs": [
    {
     "name": "stderr",
     "output_type": "stream",
     "text": [
      "C:\\Users\\User\\AppData\\Local\\Packages\\PythonSoftwareFoundation.Python.3.11_qbz5n2kfra8p0\\LocalCache\\local-packages\\Python311\\site-packages\\keras\\src\\trainers\\data_adapters\\py_dataset_adapter.py:121: UserWarning: Your `PyDataset` class should call `super().__init__(**kwargs)` in its constructor. `**kwargs` can include `workers`, `use_multiprocessing`, `max_queue_size`. Do not pass these arguments to `fit()`, as they will be ignored.\n",
      "  self._warn_if_super_not_called()\n"
     ]
    },
    {
     "name": "stdout",
     "output_type": "stream",
     "text": [
      "Epoch 1/20\n",
      "\u001b[1m160/160\u001b[0m \u001b[32m━━━━━━━━━━━━━━━━━━━━\u001b[0m\u001b[37m\u001b[0m \u001b[1m203s\u001b[0m 1s/step - accuracy: 0.8426 - loss: 0.4406 - val_accuracy: 0.8584 - val_loss: 0.3636 - learning_rate: 1.0000e-04\n",
      "Epoch 2/20\n",
      "\u001b[1m160/160\u001b[0m \u001b[32m━━━━━━━━━━━━━━━━━━━━\u001b[0m\u001b[37m\u001b[0m \u001b[1m109s\u001b[0m 682ms/step - accuracy: 0.8522 - loss: 0.3960 - val_accuracy: 0.8584 - val_loss: 0.3654 - learning_rate: 1.0000e-04\n",
      "Epoch 3/20\n",
      "\u001b[1m160/160\u001b[0m \u001b[32m━━━━━━━━━━━━━━━━━━━━\u001b[0m\u001b[37m\u001b[0m \u001b[1m111s\u001b[0m 696ms/step - accuracy: 0.8624 - loss: 0.3638 - val_accuracy: 0.8584 - val_loss: 0.3266 - learning_rate: 1.0000e-04\n",
      "Epoch 4/20\n",
      "\u001b[1m160/160\u001b[0m \u001b[32m━━━━━━━━━━━━━━━━━━━━\u001b[0m\u001b[37m\u001b[0m \u001b[1m111s\u001b[0m 694ms/step - accuracy: 0.8631 - loss: 0.3513 - val_accuracy: 0.8584 - val_loss: 0.3215 - learning_rate: 1.0000e-04\n",
      "Epoch 5/20\n",
      "\u001b[1m160/160\u001b[0m \u001b[32m━━━━━━━━━━━━━━━━━━━━\u001b[0m\u001b[37m\u001b[0m \u001b[1m109s\u001b[0m 683ms/step - accuracy: 0.8534 - loss: 0.3508 - val_accuracy: 0.8584 - val_loss: 0.3129 - learning_rate: 1.0000e-04\n",
      "Epoch 6/20\n",
      "\u001b[1m160/160\u001b[0m \u001b[32m━━━━━━━━━━━━━━━━━━━━\u001b[0m\u001b[37m\u001b[0m \u001b[1m112s\u001b[0m 701ms/step - accuracy: 0.8622 - loss: 0.3284 - val_accuracy: 0.8584 - val_loss: 0.3080 - learning_rate: 1.0000e-04\n",
      "Epoch 7/20\n",
      "\u001b[1m160/160\u001b[0m \u001b[32m━━━━━━━━━━━━━━━━━━━━\u001b[0m\u001b[37m\u001b[0m \u001b[1m109s\u001b[0m 683ms/step - accuracy: 0.8582 - loss: 0.3274 - val_accuracy: 0.8521 - val_loss: 0.3055 - learning_rate: 1.0000e-04\n",
      "Epoch 8/20\n",
      "\u001b[1m160/160\u001b[0m \u001b[32m━━━━━━━━━━━━━━━━━━━━\u001b[0m\u001b[37m\u001b[0m \u001b[1m107s\u001b[0m 670ms/step - accuracy: 0.8637 - loss: 0.3246 - val_accuracy: 0.8529 - val_loss: 0.3037 - learning_rate: 1.0000e-04\n",
      "Epoch 9/20\n",
      "\u001b[1m160/160\u001b[0m \u001b[32m━━━━━━━━━━━━━━━━━━━━\u001b[0m\u001b[37m\u001b[0m \u001b[1m112s\u001b[0m 701ms/step - accuracy: 0.8627 - loss: 0.3230 - val_accuracy: 0.8505 - val_loss: 0.2966 - learning_rate: 1.0000e-04\n",
      "Epoch 10/20\n",
      "\u001b[1m160/160\u001b[0m \u001b[32m━━━━━━━━━━━━━━━━━━━━\u001b[0m\u001b[37m\u001b[0m \u001b[1m109s\u001b[0m 683ms/step - accuracy: 0.8587 - loss: 0.3184 - val_accuracy: 0.8404 - val_loss: 0.3018 - learning_rate: 1.0000e-04\n",
      "Epoch 11/20\n",
      "\u001b[1m160/160\u001b[0m \u001b[32m━━━━━━━━━━━━━━━━━━━━\u001b[0m\u001b[37m\u001b[0m \u001b[1m110s\u001b[0m 690ms/step - accuracy: 0.8668 - loss: 0.2948 - val_accuracy: 0.8419 - val_loss: 0.3088 - learning_rate: 1.0000e-04\n",
      "Epoch 12/20\n",
      "\u001b[1m160/160\u001b[0m \u001b[32m━━━━━━━━━━━━━━━━━━━━\u001b[0m\u001b[37m\u001b[0m \u001b[1m111s\u001b[0m 691ms/step - accuracy: 0.8565 - loss: 0.3237 - val_accuracy: 0.8474 - val_loss: 0.2948 - learning_rate: 1.0000e-04\n",
      "Epoch 13/20\n",
      "\u001b[1m160/160\u001b[0m \u001b[32m━━━━━━━━━━━━━━━━━━━━\u001b[0m\u001b[37m\u001b[0m \u001b[1m99s\u001b[0m 617ms/step - accuracy: 0.8646 - loss: 0.3043 - val_accuracy: 0.8427 - val_loss: 0.2959 - learning_rate: 1.0000e-04\n",
      "Epoch 14/20\n",
      "\u001b[1m160/160\u001b[0m \u001b[32m━━━━━━━━━━━━━━━━━━━━\u001b[0m\u001b[37m\u001b[0m \u001b[1m100s\u001b[0m 624ms/step - accuracy: 0.8751 - loss: 0.3012 - val_accuracy: 0.8333 - val_loss: 0.3047 - learning_rate: 1.0000e-04\n",
      "Epoch 15/20\n",
      "\u001b[1m160/160\u001b[0m \u001b[32m━━━━━━━━━━━━━━━━━━━━\u001b[0m\u001b[37m\u001b[0m \u001b[1m101s\u001b[0m 630ms/step - accuracy: 0.8742 - loss: 0.2949 - val_accuracy: 0.8318 - val_loss: 0.3036 - learning_rate: 1.0000e-04\n",
      "Epoch 16/20\n",
      "\u001b[1m160/160\u001b[0m \u001b[32m━━━━━━━━━━━━━━━━━━━━\u001b[0m\u001b[37m\u001b[0m \u001b[1m102s\u001b[0m 634ms/step - accuracy: 0.8737 - loss: 0.2906 - val_accuracy: 0.8521 - val_loss: 0.2976 - learning_rate: 1.0000e-04\n",
      "Epoch 17/20\n",
      "\u001b[1m160/160\u001b[0m \u001b[32m━━━━━━━━━━━━━━━━━━━━\u001b[0m\u001b[37m\u001b[0m \u001b[1m97s\u001b[0m 604ms/step - accuracy: 0.8636 - loss: 0.2940 - val_accuracy: 0.8333 - val_loss: 0.3028 - learning_rate: 1.0000e-04\n",
      "Epoch 18/20\n",
      "\u001b[1m160/160\u001b[0m \u001b[32m━━━━━━━━━━━━━━━━━━━━\u001b[0m\u001b[37m\u001b[0m \u001b[1m97s\u001b[0m 608ms/step - accuracy: 0.8815 - loss: 0.2771 - val_accuracy: 0.8435 - val_loss: 0.2851 - learning_rate: 2.0000e-05\n",
      "Epoch 19/20\n",
      "\u001b[1m160/160\u001b[0m \u001b[32m━━━━━━━━━━━━━━━━━━━━\u001b[0m\u001b[37m\u001b[0m \u001b[1m96s\u001b[0m 599ms/step - accuracy: 0.8851 - loss: 0.2681 - val_accuracy: 0.8419 - val_loss: 0.2870 - learning_rate: 2.0000e-05\n",
      "Epoch 20/20\n",
      "\u001b[1m160/160\u001b[0m \u001b[32m━━━━━━━━━━━━━━━━━━━━\u001b[0m\u001b[37m\u001b[0m \u001b[1m98s\u001b[0m 613ms/step - accuracy: 0.8837 - loss: 0.2680 - val_accuracy: 0.8380 - val_loss: 0.2927 - learning_rate: 2.0000e-05\n"
     ]
    }
   ],
   "source": [
    "# ==============================\n",
    "# 📌 7. Train Model\n",
    "# ==============================\n",
    "history = model.fit(\n",
    "    train_generator,\n",
    "    epochs=20,\n",
    "    validation_data=validation_generator,\n",
    "    callbacks=[reduce_lr, early_stopping]\n",
    ")"
   ]
  },
  {
   "cell_type": "code",
   "execution_count": 10,
   "metadata": {},
   "outputs": [
    {
     "data": {
      "image/png": "[encoded data removed]",
      "text/plain": [
       "<Figure size 1200x400 with 2 Axes>"
      ]
     },
     "metadata": {},
     "output_type": "display_data"
    }
   ],
   "source": [
    "# ==============================\n",
    "# 📌 8. Evaluasi Model\n",
    "# ==============================\n",
    "plt.figure(figsize=(12, 4))\n",
    "plt.subplot(1, 2, 1)\n",
    "plt.plot(history.history['accuracy'], label='Train Accuracy')\n",
    "plt.plot(history.history['val_accuracy'], label='Validation Accuracy')\n",
    "plt.title('Training & Validation Accuracy')\n",
    "plt.xlabel('Epoch')\n",
    "plt.ylabel('Accuracy')\n",
    "plt.legend()\n",
    "\n",
    "plt.subplot(1, 2, 2)\n",
    "plt.plot(history.history['loss'], label='Train Loss')\n",
    "plt.plot(history.history['val_loss'], label='Validation Loss')\n",
    "plt.title('Training & Validation Loss')\n",
    "plt.xlabel('Epoch')\n",
    "plt.ylabel('Loss')\n",
    "plt.legend()\n",
    "plt.show()"
   ]
  },
  {
   "cell_type": "code",
   "execution_count": 11,
   "metadata": {},
   "outputs": [
    {
     "name": "stderr",
     "output_type": "stream",
     "text": [
      "WARNING:absl:You are saving your model as an HDF5 file via `model.save()` or `keras.saving.save_model(model)`. This file format is considered legacy. We recommend using instead the native Keras format, e.g. `model.save('my_model.keras')` or `keras.saving.save_model(model, 'my_model.keras')`. \n"
     ]
    },
    {
     "name": "stdout",
     "output_type": "stream",
     "text": [
      "✅ Model telah disimpan!\n"
     ]
    }
   ],
   "source": [
    "# ==============================\n",
    "# 📌 9. Simpan Model & History\n",
    "# ==============================\n",
    "model.save(\"model/batik_madura_cnn.h5\")\n",
    "with open('model/history.pkl', 'wb') as f:\n",
    "    pickle.dump(history.history, f)\n",
    "\n",
    "print(\"✅ Model telah disimpan!\")\n"
   ]
  },
  {
   "cell_type": "code",
   "execution_count": 12,
   "metadata": {},
   "outputs": [
    {
     "name": "stderr",
     "output_type": "stream",
     "text": [
      "WARNING:absl:Compiled the loaded model, but the compiled metrics have yet to be built. `model.compile_metrics` will be empty until you train or evaluate the model.\n"
     ]
    }
   ],
   "source": [
    "# ==============================\n",
    "# 📌 11. Load Model\n",
    "# ==============================\n",
    "model = load_model(\"model/batik_madura_cnn.h5\")"
   ]
  },
  {
   "cell_type": "code",
   "execution_count": 13,
   "metadata": {},
   "outputs": [],
   "source": [
    "# ==============================\n",
    "# 📌 12. Fungsi Preprocessing Gambar\n",
    "# ==============================\n",
    "\n",
    "\n",
    "def predict_image(img_path):\n",
    "    image = cv2.imread(img_path)\n",
    "    image = cv2.resize(image, (128, 128))\n",
    "    image_array = np.expand_dims(image / 255.0, axis=0)  # Normalisasi\n",
    "\n",
    "    prediction = model.predict(image_array)\n",
    "    prediction_value = prediction[0][0]\n",
    "\n",
    "    print(f\"🔍 Predicted Probability: {prediction_value}\")  # Debugging\n",
    "\n",
    "    # Jika nilai terlalu dekat dengan 1.0, bisa jadi model bias ke satu kelas\n",
    "    if prediction_value > 0.7:  # Ubah threshold jika perlu\n",
    "        return \"Batik Madura\"\n",
    "    else:\n",
    "        return \"Batik Non-Madura\"\n"
   ]
  },
  {
   "cell_type": "code",
   "execution_count": 14,
   "metadata": {},
   "outputs": [
    {
     "name": "stdout",
     "output_type": "stream",
     "text": [
      "\u001b[1m1/1\u001b[0m \u001b[32m━━━━━━━━━━━━━━━━━━━━\u001b[0m\u001b[37m\u001b[0m \u001b[1m0s\u001b[0m 260ms/step\n",
      "🔍 Predicted Probability: 0.9953503012657166\n"
     ]
    }
   ],
   "source": [
    "# ==============================\n",
    "# 📌 13. GUI dengan Tkinter\n",
    "# ==============================\n",
    "class BatikClassifierApp:\n",
    "    def __init__(self, root):\n",
    "        self.root = root\n",
    "        self.root.title(\"Batik Classifier\")\n",
    "        self.root.geometry(\"800x600\")\n",
    "        self.root.configure(bg=\"#2C3E50\")\n",
    "        \n",
    "         # Judul\n",
    "        self.label_title = tk.Label(root, text=\"Batik Madura Classifier\", font=(\"Arial\", 16, \"bold\"), bg=\"#2C3E50\", fg=\"white\")\n",
    "        self.label_title.pack(pady=10)\n",
    "        \n",
    "        # Frame untuk Upload Gambar\n",
    "        self.frame = tk.Frame(root, bg=\"#34495E\", padx=20, pady=20)\n",
    "        self.frame.pack(pady=10)\n",
    "        \n",
    "        self.btn_upload = tk.Button(self.frame, text=\"Upload Gambar\", command=self.upload_image, font=(\"Arial\", 12), bg=\"#1ABC9C\", fg=\"white\")\n",
    "        self.btn_upload.pack()\n",
    "\n",
    "        self.label_image = tk.Label(self.frame, text=\"Gambar akan muncul di sini\", bg=\"#34495E\", fg=\"white\")\n",
    "        self.label_image.pack(pady=10)\n",
    "        \n",
    "        # Label untuk Hasil Prediksi\n",
    "        self.label_result = tk.Label(root, text=\"Hasil Prediksi: \", font=(\"Arial\", 14), bg=\"#2C3E50\", fg=\"white\")\n",
    "        self.label_result.pack(pady=10)\n",
    "\n",
    "        # Frame untuk menampilkan hasil preprocessing\n",
    "        self.frame_result = tk.Frame(root, bg=\"#2C3E50\")\n",
    "        self.frame_result.pack(pady=10, expand=True)\n",
    "\n",
    "        # Label untuk gambar grayscale\n",
    "        self.label_grayscale_title = tk.Label(self.frame_result, text=\"Grayscale\", font=(\"Arial\", 12), bg=\"#2C3E50\", fg=\"white\")\n",
    "        self.label_grayscale_title.pack(side=tk.LEFT, padx=20)\n",
    "\n",
    "        self.label_grayscale = tk.Label(self.frame_result, bg=\"#2C3E50\")\n",
    "        self.label_grayscale.pack(side=tk.LEFT, padx=20)\n",
    "\n",
    "        # Label untuk gambar biner\n",
    "        self.label_binary_title = tk.Label(self.frame_result, text=\"Biner\", font=(\"Arial\", 12), bg=\"#2C3E50\", fg=\"white\")\n",
    "        self.label_binary_title.pack(side=tk.RIGHT, padx=20)\n",
    "\n",
    "        self.label_binary = tk.Label(self.frame_result, bg=\"#2C3E50\")\n",
    "        self.label_binary.pack(side=tk.RIGHT, padx=20)\n",
    "    \n",
    "    def upload_image(self):\n",
    "        file_path = filedialog.askopenfilename(filetypes=[(\"Image files\", \"*.jpg;*.png;*.jpeg\")])\n",
    "        if file_path:\n",
    "            img = Image.open(file_path)\n",
    "            img = img.resize((200, 200))\n",
    "            img_tk = ImageTk.PhotoImage(img)\n",
    "            self.label_image.config(image=img_tk)\n",
    "            self.label_image.image = img_tk\n",
    "            \n",
    "            result = predict_image(file_path)\n",
    "            self.label_result.config(text=f\"Hasil Prediksi: {result}\")\n",
    "            \n",
    "            img_gray = grayscale(cv2.imread(file_path))\n",
    "            img_bin = binarize(cv2.imread(file_path))\n",
    "            \n",
    "            gray_img = Image.fromarray(img_gray)\n",
    "            bin_img = Image.fromarray(img_bin)\n",
    "            \n",
    "            gray_tk = ImageTk.PhotoImage(gray_img.resize((200, 200)))\n",
    "            bin_tk = ImageTk.PhotoImage(bin_img.resize((200, 200)))\n",
    "            \n",
    "            self.label_grayscale.config(image=gray_tk)\n",
    "            self.label_grayscale.image = gray_tk\n",
    "            \n",
    "            self.label_binary.config(image=bin_tk)\n",
    "            self.label_binary.image = bin_tk\n",
    "\n",
    "if __name__ == \"__main__\":\n",
    "    root = tk.Tk()\n",
    "    app = BatikClassifierApp(root)\n",
    "    root.mainloop()\n"
   ]
  }
 ],
 "metadata": {
  "kernelspec": {
   "display_name": "Python 3",
   "language": "python",
   "name": "python3"
  },
  "language_info": {
   "codemirror_mode": {
    "name": "ipython",
    "version": 3
   },
   "file_extension": ".py",
   "mimetype": "text/x-python",
   "name": "python",
   "nbconvert_exporter": "python",
   "pygments_lexer": "ipython3",
   "version": "3.11.9"
  }
 },
 "nbformat": 4,
 "nbformat_minor": 2
}
